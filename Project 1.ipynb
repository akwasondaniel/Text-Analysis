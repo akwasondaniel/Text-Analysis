{
 "cells": [
  {
   "cell_type": "code",
   "execution_count": 1,
   "id": "bdb03f60",
   "metadata": {},
   "outputs": [],
   "source": [
    "import requests\n",
    "import pandas as pd"
   ]
  },
  {
   "cell_type": "code",
   "execution_count": 2,
   "id": "605b381e",
   "metadata": {},
   "outputs": [],
   "source": [
    "twitter_info =[]"
   ]
  },
  {
   "cell_type": "code",
   "execution_count": 3,
   "id": "2b5a45ce",
   "metadata": {},
   "outputs": [],
   "source": [
    "payload = {\n",
    "    'api_key':'2081a20194d93e201741a74c980707b0',\n",
    "    'query':'bullrun',\n",
    "    'num':'50'\n",
    "}\n",
    "\n",
    "response = requests.get(\n",
    "    'https://api.scraperapi.com/structured/twitter/search', params=payload)\n",
    "nf = response.json()"
   ]
  },
  {
   "cell_type": "code",
   "execution_count": 4,
   "id": "94a0fe13",
   "metadata": {},
   "outputs": [
    {
     "data": {
      "text/plain": [
       "dict_keys(['search_information', 'organic_results', 'pagination'])"
      ]
     },
     "execution_count": 4,
     "metadata": {},
     "output_type": "execute_result"
    }
   ],
   "source": [
    "nf.keys()"
   ]
  },
  {
   "cell_type": "code",
   "execution_count": 5,
   "id": "78a1a0c6",
   "metadata": {},
   "outputs": [
    {
     "data": {
      "text/plain": [
       "'BULLRUN has a revolutionary Staking Platform that rewards stakers with #USDC and not with native tokens. A win for both the ecosystem and\\xa0...'"
      ]
     },
     "execution_count": 5,
     "metadata": {},
     "output_type": "execute_result"
    }
   ],
   "source": [
    "nf['organic_results'][4]['snippet']"
   ]
  },
  {
   "cell_type": "code",
   "execution_count": 6,
   "id": "ca5674eb",
   "metadata": {},
   "outputs": [],
   "source": [
    "all_tweets = nf['organic_results']\n",
    "for tweets in all_tweets:\n",
    "    twitter_info.append(tweets)"
   ]
  },
  {
   "cell_type": "code",
   "execution_count": 7,
   "id": "6ea14ce4",
   "metadata": {},
   "outputs": [],
   "source": [
    "df = pd.DataFrame(twitter_info)"
   ]
  },
  {
   "cell_type": "code",
   "execution_count": 61,
   "id": "cab6820b",
   "metadata": {},
   "outputs": [
    {
     "data": {
      "text/html": [
       "<div>\n",
       "<style scoped>\n",
       "    .dataframe tbody tr th:only-of-type {\n",
       "        vertical-align: middle;\n",
       "    }\n",
       "\n",
       "    .dataframe tbody tr th {\n",
       "        vertical-align: top;\n",
       "    }\n",
       "\n",
       "    .dataframe thead th {\n",
       "        text-align: right;\n",
       "    }\n",
       "</style>\n",
       "<table border=\"1\" class=\"dataframe\">\n",
       "  <thead>\n",
       "    <tr style=\"text-align: right;\">\n",
       "      <th></th>\n",
       "      <th>position</th>\n",
       "      <th>title</th>\n",
       "      <th>snippet</th>\n",
       "      <th>highlighs</th>\n",
       "      <th>link</th>\n",
       "      <th>displayed_link</th>\n",
       "    </tr>\n",
       "  </thead>\n",
       "  <tbody>\n",
       "    <tr>\n",
       "      <th>0</th>\n",
       "      <td>0</td>\n",
       "      <td>BULLRUN.LIFE. (@BullRunLife) / ...</td>\n",
       "      <td>BULLRUN Aims to be the most LIQUIDITY TOKEN in...</td>\n",
       "      <td>[BULLRUN]</td>\n",
       "      <td>https://twitter.com/BullRunLife</td>\n",
       "      <td>https://twitter.com › BullRunLife</td>\n",
       "    </tr>\n",
       "    <tr>\n",
       "      <th>1</th>\n",
       "      <td>1</td>\n",
       "      <td>𝔅𝔲𝔩𝔩𝔯𝔲𝔫 𝔊𝔯𝔞𝔳𝔞𝔫𝔬 (@Bullrun_Gravano) / ...</td>\n",
       "      <td>Bullrun Gravano's posts ... $SAVM launched. I'...</td>\n",
       "      <td>[Bullrun]</td>\n",
       "      <td>https://twitter.com/Bullrun_Gravano</td>\n",
       "      <td>https://twitter.com › Bullrun_Gravano</td>\n",
       "    </tr>\n",
       "    <tr>\n",
       "      <th>2</th>\n",
       "      <td>2</td>\n",
       "      <td>Bullrun Studios (@bullrunstudios) / X</td>\n",
       "      <td>At Bullrun Studios, we are dedicated to pushin...</td>\n",
       "      <td>[Bullrun]</td>\n",
       "      <td>https://twitter.com/bullrunstudios</td>\n",
       "      <td>https://twitter.com › bullrunstudios</td>\n",
       "    </tr>\n",
       "    <tr>\n",
       "      <th>3</th>\n",
       "      <td>3</td>\n",
       "      <td>bullrun.life.</td>\n",
       "      <td>BULLRUN #SURVIVOR #KLWP BULLRUN GLOBAL DECENTR...</td>\n",
       "      <td>[BULLRUN, BULLRUN, BULLRUN]</td>\n",
       "      <td>https://twitter.com/BullRunLife/status/1748072...</td>\n",
       "      <td>https://twitter.com › BullRunLife › status</td>\n",
       "    </tr>\n",
       "    <tr>\n",
       "      <th>4</th>\n",
       "      <td>4</td>\n",
       "      <td>bullrun.life.</td>\n",
       "      <td>BULLRUN has a revolutionary Staking Platform t...</td>\n",
       "      <td>[BULLRUN]</td>\n",
       "      <td>https://twitter.com/BullRunLife/status/1747329...</td>\n",
       "      <td>https://twitter.com › BullRunLife › status</td>\n",
       "    </tr>\n",
       "  </tbody>\n",
       "</table>\n",
       "</div>"
      ],
      "text/plain": [
       "   position                                     title  \\\n",
       "0         0        BULLRUN.LIFE. (@BullRunLife) / ...   \n",
       "1         1  𝔅𝔲𝔩𝔩𝔯𝔲𝔫 𝔊𝔯𝔞𝔳𝔞𝔫𝔬 (@Bullrun_Gravano) / ...   \n",
       "2         2     Bullrun Studios (@bullrunstudios) / X   \n",
       "3         3                             bullrun.life.   \n",
       "4         4                             bullrun.life.   \n",
       "\n",
       "                                             snippet  \\\n",
       "0  BULLRUN Aims to be the most LIQUIDITY TOKEN in...   \n",
       "1  Bullrun Gravano's posts ... $SAVM launched. I'...   \n",
       "2  At Bullrun Studios, we are dedicated to pushin...   \n",
       "3  BULLRUN #SURVIVOR #KLWP BULLRUN GLOBAL DECENTR...   \n",
       "4  BULLRUN has a revolutionary Staking Platform t...   \n",
       "\n",
       "                     highlighs  \\\n",
       "0                    [BULLRUN]   \n",
       "1                    [Bullrun]   \n",
       "2                    [Bullrun]   \n",
       "3  [BULLRUN, BULLRUN, BULLRUN]   \n",
       "4                    [BULLRUN]   \n",
       "\n",
       "                                                link  \\\n",
       "0                    https://twitter.com/BullRunLife   \n",
       "1                https://twitter.com/Bullrun_Gravano   \n",
       "2                 https://twitter.com/bullrunstudios   \n",
       "3  https://twitter.com/BullRunLife/status/1748072...   \n",
       "4  https://twitter.com/BullRunLife/status/1747329...   \n",
       "\n",
       "                               displayed_link  \n",
       "0           https://twitter.com › BullRunLife  \n",
       "1       https://twitter.com › Bullrun_Gravano  \n",
       "2        https://twitter.com › bullrunstudios  \n",
       "3  https://twitter.com › BullRunLife › status  \n",
       "4  https://twitter.com › BullRunLife › status  "
      ]
     },
     "execution_count": 61,
     "metadata": {},
     "output_type": "execute_result"
    }
   ],
   "source": [
    "df.head()"
   ]
  },
  {
   "cell_type": "code",
   "execution_count": 9,
   "id": "2396cde8",
   "metadata": {
    "scrolled": true
   },
   "outputs": [
    {
     "name": "stdout",
     "output_type": "stream",
     "text": [
      "file exported\n"
     ]
    }
   ],
   "source": [
    "df.to_csv('snippettweets.csv',index_label='index')\n",
    "print('file exported')"
   ]
  },
  {
   "cell_type": "markdown",
   "id": "6b7a5543",
   "metadata": {},
   "source": [
    "## DATA WRANGLING"
   ]
  },
  {
   "cell_type": "code",
   "execution_count": 60,
   "id": "0f974b32",
   "metadata": {},
   "outputs": [
    {
     "data": {
      "text/html": [
       "<div>\n",
       "<style scoped>\n",
       "    .dataframe tbody tr th:only-of-type {\n",
       "        vertical-align: middle;\n",
       "    }\n",
       "\n",
       "    .dataframe tbody tr th {\n",
       "        vertical-align: top;\n",
       "    }\n",
       "\n",
       "    .dataframe thead th {\n",
       "        text-align: right;\n",
       "    }\n",
       "</style>\n",
       "<table border=\"1\" class=\"dataframe\">\n",
       "  <thead>\n",
       "    <tr style=\"text-align: right;\">\n",
       "      <th></th>\n",
       "      <th>position</th>\n",
       "      <th>title</th>\n",
       "      <th>snippet</th>\n",
       "      <th>highlighs</th>\n",
       "      <th>link</th>\n",
       "      <th>displayed_link</th>\n",
       "    </tr>\n",
       "  </thead>\n",
       "  <tbody>\n",
       "    <tr>\n",
       "      <th>0</th>\n",
       "      <td>0</td>\n",
       "      <td>BULLRUN.LIFE. (@BullRunLife) / ...</td>\n",
       "      <td>BULLRUN Aims to be the most LIQUIDITY TOKEN in...</td>\n",
       "      <td>[BULLRUN]</td>\n",
       "      <td>https://twitter.com/BullRunLife</td>\n",
       "      <td>https://twitter.com › BullRunLife</td>\n",
       "    </tr>\n",
       "    <tr>\n",
       "      <th>1</th>\n",
       "      <td>1</td>\n",
       "      <td>𝔅𝔲𝔩𝔩𝔯𝔲𝔫 𝔊𝔯𝔞𝔳𝔞𝔫𝔬 (@Bullrun_Gravano) / ...</td>\n",
       "      <td>Bullrun Gravano's posts ... $SAVM launched. I'...</td>\n",
       "      <td>[Bullrun]</td>\n",
       "      <td>https://twitter.com/Bullrun_Gravano</td>\n",
       "      <td>https://twitter.com › Bullrun_Gravano</td>\n",
       "    </tr>\n",
       "    <tr>\n",
       "      <th>2</th>\n",
       "      <td>2</td>\n",
       "      <td>Bullrun Studios (@bullrunstudios) / X</td>\n",
       "      <td>At Bullrun Studios, we are dedicated to pushin...</td>\n",
       "      <td>[Bullrun]</td>\n",
       "      <td>https://twitter.com/bullrunstudios</td>\n",
       "      <td>https://twitter.com › bullrunstudios</td>\n",
       "    </tr>\n",
       "    <tr>\n",
       "      <th>3</th>\n",
       "      <td>3</td>\n",
       "      <td>bullrun.life.</td>\n",
       "      <td>BULLRUN #SURVIVOR #KLWP BULLRUN GLOBAL DECENTR...</td>\n",
       "      <td>[BULLRUN, BULLRUN, BULLRUN]</td>\n",
       "      <td>https://twitter.com/BullRunLife/status/1748072...</td>\n",
       "      <td>https://twitter.com › BullRunLife › status</td>\n",
       "    </tr>\n",
       "    <tr>\n",
       "      <th>4</th>\n",
       "      <td>4</td>\n",
       "      <td>bullrun.life.</td>\n",
       "      <td>BULLRUN has a revolutionary Staking Platform t...</td>\n",
       "      <td>[BULLRUN]</td>\n",
       "      <td>https://twitter.com/BullRunLife/status/1747329...</td>\n",
       "      <td>https://twitter.com › BullRunLife › status</td>\n",
       "    </tr>\n",
       "  </tbody>\n",
       "</table>\n",
       "</div>"
      ],
      "text/plain": [
       "   position                                     title  \\\n",
       "0         0        BULLRUN.LIFE. (@BullRunLife) / ...   \n",
       "1         1  𝔅𝔲𝔩𝔩𝔯𝔲𝔫 𝔊𝔯𝔞𝔳𝔞𝔫𝔬 (@Bullrun_Gravano) / ...   \n",
       "2         2     Bullrun Studios (@bullrunstudios) / X   \n",
       "3         3                             bullrun.life.   \n",
       "4         4                             bullrun.life.   \n",
       "\n",
       "                                             snippet  \\\n",
       "0  BULLRUN Aims to be the most LIQUIDITY TOKEN in...   \n",
       "1  Bullrun Gravano's posts ... $SAVM launched. I'...   \n",
       "2  At Bullrun Studios, we are dedicated to pushin...   \n",
       "3  BULLRUN #SURVIVOR #KLWP BULLRUN GLOBAL DECENTR...   \n",
       "4  BULLRUN has a revolutionary Staking Platform t...   \n",
       "\n",
       "                     highlighs  \\\n",
       "0                    [BULLRUN]   \n",
       "1                    [Bullrun]   \n",
       "2                    [Bullrun]   \n",
       "3  [BULLRUN, BULLRUN, BULLRUN]   \n",
       "4                    [BULLRUN]   \n",
       "\n",
       "                                                link  \\\n",
       "0                    https://twitter.com/BullRunLife   \n",
       "1                https://twitter.com/Bullrun_Gravano   \n",
       "2                 https://twitter.com/bullrunstudios   \n",
       "3  https://twitter.com/BullRunLife/status/1748072...   \n",
       "4  https://twitter.com/BullRunLife/status/1747329...   \n",
       "\n",
       "                               displayed_link  \n",
       "0           https://twitter.com › BullRunLife  \n",
       "1       https://twitter.com › Bullrun_Gravano  \n",
       "2        https://twitter.com › bullrunstudios  \n",
       "3  https://twitter.com › BullRunLife › status  \n",
       "4  https://twitter.com › BullRunLife › status  "
      ]
     },
     "execution_count": 60,
     "metadata": {},
     "output_type": "execute_result"
    }
   ],
   "source": [
    "df.head()"
   ]
  },
  {
   "cell_type": "code",
   "execution_count": 24,
   "id": "70d2bb7d",
   "metadata": {},
   "outputs": [],
   "source": [
    "#First we will be dropping columns that are not usual to our analysis, that is, Text Analysis\n",
    "columns_to_drop = ['position','displayed_link']\n",
    "df1 = df.drop(columns_to_drop, axis=1)"
   ]
  },
  {
   "cell_type": "code",
   "execution_count": 59,
   "id": "cdac7231",
   "metadata": {},
   "outputs": [
    {
     "data": {
      "text/html": [
       "<div>\n",
       "<style scoped>\n",
       "    .dataframe tbody tr th:only-of-type {\n",
       "        vertical-align: middle;\n",
       "    }\n",
       "\n",
       "    .dataframe tbody tr th {\n",
       "        vertical-align: top;\n",
       "    }\n",
       "\n",
       "    .dataframe thead th {\n",
       "        text-align: right;\n",
       "    }\n",
       "</style>\n",
       "<table border=\"1\" class=\"dataframe\">\n",
       "  <thead>\n",
       "    <tr style=\"text-align: right;\">\n",
       "      <th></th>\n",
       "      <th>title</th>\n",
       "      <th>snippet</th>\n",
       "      <th>highlighs</th>\n",
       "      <th>link</th>\n",
       "    </tr>\n",
       "  </thead>\n",
       "  <tbody>\n",
       "    <tr>\n",
       "      <th>0</th>\n",
       "      <td>BULLRUN.LIFE. (@BullRunLife) / ...</td>\n",
       "      <td>BULLRUN Aims to be the most LIQUIDITY TOKEN in...</td>\n",
       "      <td>[BULLRUN]</td>\n",
       "      <td>https://twitter.com/BullRunLife</td>\n",
       "    </tr>\n",
       "    <tr>\n",
       "      <th>1</th>\n",
       "      <td>𝔅𝔲𝔩𝔩𝔯𝔲𝔫 𝔊𝔯𝔞𝔳𝔞𝔫𝔬 (@Bullrun_Gravano) / ...</td>\n",
       "      <td>Bullrun Gravano's posts ... $SAVM launched. I'...</td>\n",
       "      <td>[Bullrun]</td>\n",
       "      <td>https://twitter.com/Bullrun_Gravano</td>\n",
       "    </tr>\n",
       "    <tr>\n",
       "      <th>2</th>\n",
       "      <td>Bullrun Studios (@bullrunstudios) / X</td>\n",
       "      <td>At Bullrun Studios, we are dedicated to pushin...</td>\n",
       "      <td>[Bullrun]</td>\n",
       "      <td>https://twitter.com/bullrunstudios</td>\n",
       "    </tr>\n",
       "    <tr>\n",
       "      <th>3</th>\n",
       "      <td>bullrun.life.</td>\n",
       "      <td>BULLRUN #SURVIVOR #KLWP BULLRUN GLOBAL DECENTR...</td>\n",
       "      <td>[BULLRUN, BULLRUN, BULLRUN]</td>\n",
       "      <td>https://twitter.com/BullRunLife/status/1748072...</td>\n",
       "    </tr>\n",
       "    <tr>\n",
       "      <th>4</th>\n",
       "      <td>bullrun.life.</td>\n",
       "      <td>BULLRUN has a revolutionary Staking Platform t...</td>\n",
       "      <td>[BULLRUN]</td>\n",
       "      <td>https://twitter.com/BullRunLife/status/1747329...</td>\n",
       "    </tr>\n",
       "  </tbody>\n",
       "</table>\n",
       "</div>"
      ],
      "text/plain": [
       "                                      title  \\\n",
       "0        BULLRUN.LIFE. (@BullRunLife) / ...   \n",
       "1  𝔅𝔲𝔩𝔩𝔯𝔲𝔫 𝔊𝔯𝔞𝔳𝔞𝔫𝔬 (@Bullrun_Gravano) / ...   \n",
       "2     Bullrun Studios (@bullrunstudios) / X   \n",
       "3                             bullrun.life.   \n",
       "4                             bullrun.life.   \n",
       "\n",
       "                                             snippet  \\\n",
       "0  BULLRUN Aims to be the most LIQUIDITY TOKEN in...   \n",
       "1  Bullrun Gravano's posts ... $SAVM launched. I'...   \n",
       "2  At Bullrun Studios, we are dedicated to pushin...   \n",
       "3  BULLRUN #SURVIVOR #KLWP BULLRUN GLOBAL DECENTR...   \n",
       "4  BULLRUN has a revolutionary Staking Platform t...   \n",
       "\n",
       "                     highlighs  \\\n",
       "0                    [BULLRUN]   \n",
       "1                    [Bullrun]   \n",
       "2                    [Bullrun]   \n",
       "3  [BULLRUN, BULLRUN, BULLRUN]   \n",
       "4                    [BULLRUN]   \n",
       "\n",
       "                                                link  \n",
       "0                    https://twitter.com/BullRunLife  \n",
       "1                https://twitter.com/Bullrun_Gravano  \n",
       "2                 https://twitter.com/bullrunstudios  \n",
       "3  https://twitter.com/BullRunLife/status/1748072...  \n",
       "4  https://twitter.com/BullRunLife/status/1747329...  "
      ]
     },
     "execution_count": 59,
     "metadata": {},
     "output_type": "execute_result"
    }
   ],
   "source": [
    "df1.head()"
   ]
  },
  {
   "cell_type": "code",
   "execution_count": 34,
   "id": "a0720ac8",
   "metadata": {},
   "outputs": [],
   "source": [
    "#Removing duplicated rows\n",
    "df2 = df1.drop_duplicates(subset = 'snippet', keep = False)"
   ]
  },
  {
   "cell_type": "code",
   "execution_count": 58,
   "id": "2bf4a06a",
   "metadata": {},
   "outputs": [
    {
     "data": {
      "text/html": [
       "<div>\n",
       "<style scoped>\n",
       "    .dataframe tbody tr th:only-of-type {\n",
       "        vertical-align: middle;\n",
       "    }\n",
       "\n",
       "    .dataframe tbody tr th {\n",
       "        vertical-align: top;\n",
       "    }\n",
       "\n",
       "    .dataframe thead th {\n",
       "        text-align: right;\n",
       "    }\n",
       "</style>\n",
       "<table border=\"1\" class=\"dataframe\">\n",
       "  <thead>\n",
       "    <tr style=\"text-align: right;\">\n",
       "      <th></th>\n",
       "      <th>title</th>\n",
       "      <th>snippet</th>\n",
       "      <th>highlighs</th>\n",
       "      <th>link</th>\n",
       "      <th>Sentiment</th>\n",
       "    </tr>\n",
       "  </thead>\n",
       "  <tbody>\n",
       "    <tr>\n",
       "      <th>0</th>\n",
       "      <td>BULLRUN.LIFE. (@BullRunLife) / ...</td>\n",
       "      <td>BULLRUN Aims to be the most LIQUIDITY TOKEN in...</td>\n",
       "      <td>[BULLRUN]</td>\n",
       "      <td>https://twitter.com/BullRunLife</td>\n",
       "      <td>0.50</td>\n",
       "    </tr>\n",
       "    <tr>\n",
       "      <th>1</th>\n",
       "      <td>𝔅𝔲𝔩𝔩𝔯𝔲𝔫 𝔊𝔯𝔞𝔳𝔞𝔫𝔬 (@Bullrun_Gravano) / ...</td>\n",
       "      <td>Bullrun Gravano's posts ... $SAVM launched. I'...</td>\n",
       "      <td>[Bullrun]</td>\n",
       "      <td>https://twitter.com/Bullrun_Gravano</td>\n",
       "      <td>0.00</td>\n",
       "    </tr>\n",
       "    <tr>\n",
       "      <th>2</th>\n",
       "      <td>Bullrun Studios (@bullrunstudios) / X</td>\n",
       "      <td>At Bullrun Studios, we are dedicated to pushin...</td>\n",
       "      <td>[Bullrun]</td>\n",
       "      <td>https://twitter.com/bullrunstudios</td>\n",
       "      <td>0.00</td>\n",
       "    </tr>\n",
       "    <tr>\n",
       "      <th>3</th>\n",
       "      <td>bullrun.life.</td>\n",
       "      <td>BULLRUN #SURVIVOR #KLWP BULLRUN GLOBAL DECENTR...</td>\n",
       "      <td>[BULLRUN, BULLRUN, BULLRUN]</td>\n",
       "      <td>https://twitter.com/BullRunLife/status/1748072...</td>\n",
       "      <td>0.25</td>\n",
       "    </tr>\n",
       "    <tr>\n",
       "      <th>4</th>\n",
       "      <td>bullrun.life.</td>\n",
       "      <td>BULLRUN has a revolutionary Staking Platform t...</td>\n",
       "      <td>[BULLRUN]</td>\n",
       "      <td>https://twitter.com/BullRunLife/status/1747329...</td>\n",
       "      <td>0.80</td>\n",
       "    </tr>\n",
       "  </tbody>\n",
       "</table>\n",
       "</div>"
      ],
      "text/plain": [
       "                                      title  \\\n",
       "0        BULLRUN.LIFE. (@BullRunLife) / ...   \n",
       "1  𝔅𝔲𝔩𝔩𝔯𝔲𝔫 𝔊𝔯𝔞𝔳𝔞𝔫𝔬 (@Bullrun_Gravano) / ...   \n",
       "2     Bullrun Studios (@bullrunstudios) / X   \n",
       "3                             bullrun.life.   \n",
       "4                             bullrun.life.   \n",
       "\n",
       "                                             snippet  \\\n",
       "0  BULLRUN Aims to be the most LIQUIDITY TOKEN in...   \n",
       "1  Bullrun Gravano's posts ... $SAVM launched. I'...   \n",
       "2  At Bullrun Studios, we are dedicated to pushin...   \n",
       "3  BULLRUN #SURVIVOR #KLWP BULLRUN GLOBAL DECENTR...   \n",
       "4  BULLRUN has a revolutionary Staking Platform t...   \n",
       "\n",
       "                     highlighs  \\\n",
       "0                    [BULLRUN]   \n",
       "1                    [Bullrun]   \n",
       "2                    [Bullrun]   \n",
       "3  [BULLRUN, BULLRUN, BULLRUN]   \n",
       "4                    [BULLRUN]   \n",
       "\n",
       "                                                link  Sentiment  \n",
       "0                    https://twitter.com/BullRunLife       0.50  \n",
       "1                https://twitter.com/Bullrun_Gravano       0.00  \n",
       "2                 https://twitter.com/bullrunstudios       0.00  \n",
       "3  https://twitter.com/BullRunLife/status/1748072...       0.25  \n",
       "4  https://twitter.com/BullRunLife/status/1747329...       0.80  "
      ]
     },
     "execution_count": 58,
     "metadata": {},
     "output_type": "execute_result"
    }
   ],
   "source": [
    "df2.head()"
   ]
  },
  {
   "cell_type": "code",
   "execution_count": 36,
   "id": "14dc7d83",
   "metadata": {},
   "outputs": [
    {
     "data": {
      "text/html": [
       "<div>\n",
       "<style scoped>\n",
       "    .dataframe tbody tr th:only-of-type {\n",
       "        vertical-align: middle;\n",
       "    }\n",
       "\n",
       "    .dataframe tbody tr th {\n",
       "        vertical-align: top;\n",
       "    }\n",
       "\n",
       "    .dataframe thead th {\n",
       "        text-align: right;\n",
       "    }\n",
       "</style>\n",
       "<table border=\"1\" class=\"dataframe\">\n",
       "  <thead>\n",
       "    <tr style=\"text-align: right;\">\n",
       "      <th></th>\n",
       "      <th>position</th>\n",
       "    </tr>\n",
       "  </thead>\n",
       "  <tbody>\n",
       "    <tr>\n",
       "      <th>count</th>\n",
       "      <td>50.00000</td>\n",
       "    </tr>\n",
       "    <tr>\n",
       "      <th>mean</th>\n",
       "      <td>24.50000</td>\n",
       "    </tr>\n",
       "    <tr>\n",
       "      <th>std</th>\n",
       "      <td>14.57738</td>\n",
       "    </tr>\n",
       "    <tr>\n",
       "      <th>min</th>\n",
       "      <td>0.00000</td>\n",
       "    </tr>\n",
       "    <tr>\n",
       "      <th>25%</th>\n",
       "      <td>12.25000</td>\n",
       "    </tr>\n",
       "    <tr>\n",
       "      <th>50%</th>\n",
       "      <td>24.50000</td>\n",
       "    </tr>\n",
       "    <tr>\n",
       "      <th>75%</th>\n",
       "      <td>36.75000</td>\n",
       "    </tr>\n",
       "    <tr>\n",
       "      <th>max</th>\n",
       "      <td>49.00000</td>\n",
       "    </tr>\n",
       "  </tbody>\n",
       "</table>\n",
       "</div>"
      ],
      "text/plain": [
       "       position\n",
       "count  50.00000\n",
       "mean   24.50000\n",
       "std    14.57738\n",
       "min     0.00000\n",
       "25%    12.25000\n",
       "50%    24.50000\n",
       "75%    36.75000\n",
       "max    49.00000"
      ]
     },
     "execution_count": 36,
     "metadata": {},
     "output_type": "execute_result"
    }
   ],
   "source": [
    "df.describe()"
   ]
  },
  {
   "cell_type": "code",
   "execution_count": 37,
   "id": "907c7100",
   "metadata": {},
   "outputs": [
    {
     "data": {
      "text/html": [
       "<div>\n",
       "<style scoped>\n",
       "    .dataframe tbody tr th:only-of-type {\n",
       "        vertical-align: middle;\n",
       "    }\n",
       "\n",
       "    .dataframe tbody tr th {\n",
       "        vertical-align: top;\n",
       "    }\n",
       "\n",
       "    .dataframe thead th {\n",
       "        text-align: right;\n",
       "    }\n",
       "</style>\n",
       "<table border=\"1\" class=\"dataframe\">\n",
       "  <thead>\n",
       "    <tr style=\"text-align: right;\">\n",
       "      <th></th>\n",
       "      <th>title</th>\n",
       "      <th>snippet</th>\n",
       "      <th>highlighs</th>\n",
       "      <th>link</th>\n",
       "    </tr>\n",
       "  </thead>\n",
       "  <tbody>\n",
       "    <tr>\n",
       "      <th>count</th>\n",
       "      <td>50</td>\n",
       "      <td>50</td>\n",
       "      <td>50</td>\n",
       "      <td>50</td>\n",
       "    </tr>\n",
       "    <tr>\n",
       "      <th>unique</th>\n",
       "      <td>39</td>\n",
       "      <td>50</td>\n",
       "      <td>12</td>\n",
       "      <td>50</td>\n",
       "    </tr>\n",
       "    <tr>\n",
       "      <th>top</th>\n",
       "      <td>bullrun.life.</td>\n",
       "      <td>BULLRUN Aims to be the most LIQUIDITY TOKEN in...</td>\n",
       "      <td>[bullrun]</td>\n",
       "      <td>https://twitter.com/BullRunLife</td>\n",
       "    </tr>\n",
       "    <tr>\n",
       "      <th>freq</th>\n",
       "      <td>11</td>\n",
       "      <td>1</td>\n",
       "      <td>17</td>\n",
       "      <td>1</td>\n",
       "    </tr>\n",
       "  </tbody>\n",
       "</table>\n",
       "</div>"
      ],
      "text/plain": [
       "                title                                            snippet  \\\n",
       "count              50                                                 50   \n",
       "unique             39                                                 50   \n",
       "top     bullrun.life.  BULLRUN Aims to be the most LIQUIDITY TOKEN in...   \n",
       "freq               11                                                  1   \n",
       "\n",
       "        highlighs                             link  \n",
       "count          50                               50  \n",
       "unique         12                               50  \n",
       "top     [bullrun]  https://twitter.com/BullRunLife  \n",
       "freq           17                                1  "
      ]
     },
     "execution_count": 37,
     "metadata": {},
     "output_type": "execute_result"
    }
   ],
   "source": [
    "df1.describe()"
   ]
  },
  {
   "cell_type": "code",
   "execution_count": 38,
   "id": "bee4c5cd",
   "metadata": {},
   "outputs": [
    {
     "data": {
      "text/html": [
       "<div>\n",
       "<style scoped>\n",
       "    .dataframe tbody tr th:only-of-type {\n",
       "        vertical-align: middle;\n",
       "    }\n",
       "\n",
       "    .dataframe tbody tr th {\n",
       "        vertical-align: top;\n",
       "    }\n",
       "\n",
       "    .dataframe thead th {\n",
       "        text-align: right;\n",
       "    }\n",
       "</style>\n",
       "<table border=\"1\" class=\"dataframe\">\n",
       "  <thead>\n",
       "    <tr style=\"text-align: right;\">\n",
       "      <th></th>\n",
       "      <th>title</th>\n",
       "      <th>snippet</th>\n",
       "      <th>highlighs</th>\n",
       "      <th>link</th>\n",
       "    </tr>\n",
       "  </thead>\n",
       "  <tbody>\n",
       "    <tr>\n",
       "      <th>count</th>\n",
       "      <td>50</td>\n",
       "      <td>50</td>\n",
       "      <td>50</td>\n",
       "      <td>50</td>\n",
       "    </tr>\n",
       "    <tr>\n",
       "      <th>unique</th>\n",
       "      <td>39</td>\n",
       "      <td>50</td>\n",
       "      <td>12</td>\n",
       "      <td>50</td>\n",
       "    </tr>\n",
       "    <tr>\n",
       "      <th>top</th>\n",
       "      <td>bullrun.life.</td>\n",
       "      <td>BULLRUN Aims to be the most LIQUIDITY TOKEN in...</td>\n",
       "      <td>[bullrun]</td>\n",
       "      <td>https://twitter.com/BullRunLife</td>\n",
       "    </tr>\n",
       "    <tr>\n",
       "      <th>freq</th>\n",
       "      <td>11</td>\n",
       "      <td>1</td>\n",
       "      <td>17</td>\n",
       "      <td>1</td>\n",
       "    </tr>\n",
       "  </tbody>\n",
       "</table>\n",
       "</div>"
      ],
      "text/plain": [
       "                title                                            snippet  \\\n",
       "count              50                                                 50   \n",
       "unique             39                                                 50   \n",
       "top     bullrun.life.  BULLRUN Aims to be the most LIQUIDITY TOKEN in...   \n",
       "freq               11                                                  1   \n",
       "\n",
       "        highlighs                             link  \n",
       "count          50                               50  \n",
       "unique         12                               50  \n",
       "top     [bullrun]  https://twitter.com/BullRunLife  \n",
       "freq           17                                1  "
      ]
     },
     "execution_count": 38,
     "metadata": {},
     "output_type": "execute_result"
    }
   ],
   "source": [
    "df2.describe()"
   ]
  },
  {
   "cell_type": "markdown",
   "id": "f9d64faf",
   "metadata": {},
   "source": [
    "## TEXT ANALYSIS"
   ]
  },
  {
   "cell_type": "code",
   "execution_count": 40,
   "id": "5d3c2db8",
   "metadata": {},
   "outputs": [],
   "source": [
    "#Before commencing Text Analysis I had to import and install all the libraries and modules I will be using\n",
    "\n",
    "import numpy as np\n",
    "import plotly.express as px\n",
    "import matplotlib.pyplot as plt\n",
    "\n",
    "from wordcloud import WordCloud\n",
    "from textblob import TextBlob\n",
    "import spacy\n",
    "from collections import defaultdict\n",
    "from collections import Counter\n",
    "from sklearn.feature_extraction.text import CountVectorizer\n",
    "from sklearn.decomposition import LatentDirichletAllocation\n",
    "nlp = spacy.load('en_core_web_sm')\n",
    "\n",
    "#other things installed before starting this project \n",
    "#!pip install wordcloud\n",
    "#!pip install textblob\n",
    "#!pip install spacy\n",
    "#!python -m spacy download en_core_web_sm"
   ]
  },
  {
   "cell_type": "code",
   "execution_count": 57,
   "id": "7a6e5840",
   "metadata": {},
   "outputs": [
    {
     "data": {
      "application/vnd.plotly.v1+json": {
       "config": {
        "plotlyServerURL": "https://plot.ly"
       },
       "data": [
        {
         "hovertemplate": "x: %{x}<br>y: %{y}<br>color: [%{z[0]}, %{z[1]}, %{z[2]}]<extra></extra>",
         "name": "0",
         "source": "data:image/png;base64,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",
         "type": "image",
         "xaxis": "x",
         "yaxis": "y"
        }
       ],
       "layout": {
        "template": {
         "data": {
          "bar": [
           {
            "error_x": {
             "color": "#2a3f5f"
            },
            "error_y": {
             "color": "#2a3f5f"
            },
            "marker": {
             "line": {
              "color": "#E5ECF6",
              "width": 0.5
             },
             "pattern": {
              "fillmode": "overlay",
              "size": 10,
              "solidity": 0.2
             }
            },
            "type": "bar"
           }
          ],
          "barpolar": [
           {
            "marker": {
             "line": {
              "color": "#E5ECF6",
              "width": 0.5
             },
             "pattern": {
              "fillmode": "overlay",
              "size": 10,
              "solidity": 0.2
             }
            },
            "type": "barpolar"
           }
          ],
          "carpet": [
           {
            "aaxis": {
             "endlinecolor": "#2a3f5f",
             "gridcolor": "white",
             "linecolor": "white",
             "minorgridcolor": "white",
             "startlinecolor": "#2a3f5f"
            },
            "baxis": {
             "endlinecolor": "#2a3f5f",
             "gridcolor": "white",
             "linecolor": "white",
             "minorgridcolor": "white",
             "startlinecolor": "#2a3f5f"
            },
            "type": "carpet"
           }
          ],
          "choropleth": [
           {
            "colorbar": {
             "outlinewidth": 0,
             "ticks": ""
            },
            "type": "choropleth"
           }
          ],
          "contour": [
           {
            "colorbar": {
             "outlinewidth": 0,
             "ticks": ""
            },
            "colorscale": [
             [
              0,
              "#0d0887"
             ],
             [
              0.1111111111111111,
              "#46039f"
             ],
             [
              0.2222222222222222,
              "#7201a8"
             ],
             [
              0.3333333333333333,
              "#9c179e"
             ],
             [
              0.4444444444444444,
              "#bd3786"
             ],
             [
              0.5555555555555556,
              "#d8576b"
             ],
             [
              0.6666666666666666,
              "#ed7953"
             ],
             [
              0.7777777777777778,
              "#fb9f3a"
             ],
             [
              0.8888888888888888,
              "#fdca26"
             ],
             [
              1,
              "#f0f921"
             ]
            ],
            "type": "contour"
           }
          ],
          "contourcarpet": [
           {
            "colorbar": {
             "outlinewidth": 0,
             "ticks": ""
            },
            "type": "contourcarpet"
           }
          ],
          "heatmap": [
           {
            "colorbar": {
             "outlinewidth": 0,
             "ticks": ""
            },
            "colorscale": [
             [
              0,
              "#0d0887"
             ],
             [
              0.1111111111111111,
              "#46039f"
             ],
             [
              0.2222222222222222,
              "#7201a8"
             ],
             [
              0.3333333333333333,
              "#9c179e"
             ],
             [
              0.4444444444444444,
              "#bd3786"
             ],
             [
              0.5555555555555556,
              "#d8576b"
             ],
             [
              0.6666666666666666,
              "#ed7953"
             ],
             [
              0.7777777777777778,
              "#fb9f3a"
             ],
             [
              0.8888888888888888,
              "#fdca26"
             ],
             [
              1,
              "#f0f921"
             ]
            ],
            "type": "heatmap"
           }
          ],
          "heatmapgl": [
           {
            "colorbar": {
             "outlinewidth": 0,
             "ticks": ""
            },
            "colorscale": [
             [
              0,
              "#0d0887"
             ],
             [
              0.1111111111111111,
              "#46039f"
             ],
             [
              0.2222222222222222,
              "#7201a8"
             ],
             [
              0.3333333333333333,
              "#9c179e"
             ],
             [
              0.4444444444444444,
              "#bd3786"
             ],
             [
              0.5555555555555556,
              "#d8576b"
             ],
             [
              0.6666666666666666,
              "#ed7953"
             ],
             [
              0.7777777777777778,
              "#fb9f3a"
             ],
             [
              0.8888888888888888,
              "#fdca26"
             ],
             [
              1,
              "#f0f921"
             ]
            ],
            "type": "heatmapgl"
           }
          ],
          "histogram": [
           {
            "marker": {
             "pattern": {
              "fillmode": "overlay",
              "size": 10,
              "solidity": 0.2
             }
            },
            "type": "histogram"
           }
          ],
          "histogram2d": [
           {
            "colorbar": {
             "outlinewidth": 0,
             "ticks": ""
            },
            "colorscale": [
             [
              0,
              "#0d0887"
             ],
             [
              0.1111111111111111,
              "#46039f"
             ],
             [
              0.2222222222222222,
              "#7201a8"
             ],
             [
              0.3333333333333333,
              "#9c179e"
             ],
             [
              0.4444444444444444,
              "#bd3786"
             ],
             [
              0.5555555555555556,
              "#d8576b"
             ],
             [
              0.6666666666666666,
              "#ed7953"
             ],
             [
              0.7777777777777778,
              "#fb9f3a"
             ],
             [
              0.8888888888888888,
              "#fdca26"
             ],
             [
              1,
              "#f0f921"
             ]
            ],
            "type": "histogram2d"
           }
          ],
          "histogram2dcontour": [
           {
            "colorbar": {
             "outlinewidth": 0,
             "ticks": ""
            },
            "colorscale": [
             [
              0,
              "#0d0887"
             ],
             [
              0.1111111111111111,
              "#46039f"
             ],
             [
              0.2222222222222222,
              "#7201a8"
             ],
             [
              0.3333333333333333,
              "#9c179e"
             ],
             [
              0.4444444444444444,
              "#bd3786"
             ],
             [
              0.5555555555555556,
              "#d8576b"
             ],
             [
              0.6666666666666666,
              "#ed7953"
             ],
             [
              0.7777777777777778,
              "#fb9f3a"
             ],
             [
              0.8888888888888888,
              "#fdca26"
             ],
             [
              1,
              "#f0f921"
             ]
            ],
            "type": "histogram2dcontour"
           }
          ],
          "mesh3d": [
           {
            "colorbar": {
             "outlinewidth": 0,
             "ticks": ""
            },
            "type": "mesh3d"
           }
          ],
          "parcoords": [
           {
            "line": {
             "colorbar": {
              "outlinewidth": 0,
              "ticks": ""
             }
            },
            "type": "parcoords"
           }
          ],
          "pie": [
           {
            "automargin": true,
            "type": "pie"
           }
          ],
          "scatter": [
           {
            "fillpattern": {
             "fillmode": "overlay",
             "size": 10,
             "solidity": 0.2
            },
            "type": "scatter"
           }
          ],
          "scatter3d": [
           {
            "line": {
             "colorbar": {
              "outlinewidth": 0,
              "ticks": ""
             }
            },
            "marker": {
             "colorbar": {
              "outlinewidth": 0,
              "ticks": ""
             }
            },
            "type": "scatter3d"
           }
          ],
          "scattercarpet": [
           {
            "marker": {
             "colorbar": {
              "outlinewidth": 0,
              "ticks": ""
             }
            },
            "type": "scattercarpet"
           }
          ],
          "scattergeo": [
           {
            "marker": {
             "colorbar": {
              "outlinewidth": 0,
              "ticks": ""
             }
            },
            "type": "scattergeo"
           }
          ],
          "scattergl": [
           {
            "marker": {
             "colorbar": {
              "outlinewidth": 0,
              "ticks": ""
             }
            },
            "type": "scattergl"
           }
          ],
          "scattermapbox": [
           {
            "marker": {
             "colorbar": {
              "outlinewidth": 0,
              "ticks": ""
             }
            },
            "type": "scattermapbox"
           }
          ],
          "scatterpolar": [
           {
            "marker": {
             "colorbar": {
              "outlinewidth": 0,
              "ticks": ""
             }
            },
            "type": "scatterpolar"
           }
          ],
          "scatterpolargl": [
           {
            "marker": {
             "colorbar": {
              "outlinewidth": 0,
              "ticks": ""
             }
            },
            "type": "scatterpolargl"
           }
          ],
          "scatterternary": [
           {
            "marker": {
             "colorbar": {
              "outlinewidth": 0,
              "ticks": ""
             }
            },
            "type": "scatterternary"
           }
          ],
          "surface": [
           {
            "colorbar": {
             "outlinewidth": 0,
             "ticks": ""
            },
            "colorscale": [
             [
              0,
              "#0d0887"
             ],
             [
              0.1111111111111111,
              "#46039f"
             ],
             [
              0.2222222222222222,
              "#7201a8"
             ],
             [
              0.3333333333333333,
              "#9c179e"
             ],
             [
              0.4444444444444444,
              "#bd3786"
             ],
             [
              0.5555555555555556,
              "#d8576b"
             ],
             [
              0.6666666666666666,
              "#ed7953"
             ],
             [
              0.7777777777777778,
              "#fb9f3a"
             ],
             [
              0.8888888888888888,
              "#fdca26"
             ],
             [
              1,
              "#f0f921"
             ]
            ],
            "type": "surface"
           }
          ],
          "table": [
           {
            "cells": {
             "fill": {
              "color": "#EBF0F8"
             },
             "line": {
              "color": "white"
             }
            },
            "header": {
             "fill": {
              "color": "#C8D4E3"
             },
             "line": {
              "color": "white"
             }
            },
            "type": "table"
           }
          ]
         },
         "layout": {
          "annotationdefaults": {
           "arrowcolor": "#2a3f5f",
           "arrowhead": 0,
           "arrowwidth": 1
          },
          "autotypenumbers": "strict",
          "coloraxis": {
           "colorbar": {
            "outlinewidth": 0,
            "ticks": ""
           }
          },
          "colorscale": {
           "diverging": [
            [
             0,
             "#8e0152"
            ],
            [
             0.1,
             "#c51b7d"
            ],
            [
             0.2,
             "#de77ae"
            ],
            [
             0.3,
             "#f1b6da"
            ],
            [
             0.4,
             "#fde0ef"
            ],
            [
             0.5,
             "#f7f7f7"
            ],
            [
             0.6,
             "#e6f5d0"
            ],
            [
             0.7,
             "#b8e186"
            ],
            [
             0.8,
             "#7fbc41"
            ],
            [
             0.9,
             "#4d9221"
            ],
            [
             1,
             "#276419"
            ]
           ],
           "sequential": [
            [
             0,
             "#0d0887"
            ],
            [
             0.1111111111111111,
             "#46039f"
            ],
            [
             0.2222222222222222,
             "#7201a8"
            ],
            [
             0.3333333333333333,
             "#9c179e"
            ],
            [
             0.4444444444444444,
             "#bd3786"
            ],
            [
             0.5555555555555556,
             "#d8576b"
            ],
            [
             0.6666666666666666,
             "#ed7953"
            ],
            [
             0.7777777777777778,
             "#fb9f3a"
            ],
            [
             0.8888888888888888,
             "#fdca26"
            ],
            [
             1,
             "#f0f921"
            ]
           ],
           "sequentialminus": [
            [
             0,
             "#0d0887"
            ],
            [
             0.1111111111111111,
             "#46039f"
            ],
            [
             0.2222222222222222,
             "#7201a8"
            ],
            [
             0.3333333333333333,
             "#9c179e"
            ],
            [
             0.4444444444444444,
             "#bd3786"
            ],
            [
             0.5555555555555556,
             "#d8576b"
            ],
            [
             0.6666666666666666,
             "#ed7953"
            ],
            [
             0.7777777777777778,
             "#fb9f3a"
            ],
            [
             0.8888888888888888,
             "#fdca26"
            ],
            [
             1,
             "#f0f921"
            ]
           ]
          },
          "colorway": [
           "#636efa",
           "#EF553B",
           "#00cc96",
           "#ab63fa",
           "#FFA15A",
           "#19d3f3",
           "#FF6692",
           "#B6E880",
           "#FF97FF",
           "#FECB52"
          ],
          "font": {
           "color": "#2a3f5f"
          },
          "geo": {
           "bgcolor": "white",
           "lakecolor": "white",
           "landcolor": "#E5ECF6",
           "showlakes": true,
           "showland": true,
           "subunitcolor": "white"
          },
          "hoverlabel": {
           "align": "left"
          },
          "hovermode": "closest",
          "mapbox": {
           "style": "light"
          },
          "paper_bgcolor": "white",
          "plot_bgcolor": "#E5ECF6",
          "polar": {
           "angularaxis": {
            "gridcolor": "white",
            "linecolor": "white",
            "ticks": ""
           },
           "bgcolor": "#E5ECF6",
           "radialaxis": {
            "gridcolor": "white",
            "linecolor": "white",
            "ticks": ""
           }
          },
          "scene": {
           "xaxis": {
            "backgroundcolor": "#E5ECF6",
            "gridcolor": "white",
            "gridwidth": 2,
            "linecolor": "white",
            "showbackground": true,
            "ticks": "",
            "zerolinecolor": "white"
           },
           "yaxis": {
            "backgroundcolor": "#E5ECF6",
            "gridcolor": "white",
            "gridwidth": 2,
            "linecolor": "white",
            "showbackground": true,
            "ticks": "",
            "zerolinecolor": "white"
           },
           "zaxis": {
            "backgroundcolor": "#E5ECF6",
            "gridcolor": "white",
            "gridwidth": 2,
            "linecolor": "white",
            "showbackground": true,
            "ticks": "",
            "zerolinecolor": "white"
           }
          },
          "shapedefaults": {
           "line": {
            "color": "#2a3f5f"
           }
          },
          "ternary": {
           "aaxis": {
            "gridcolor": "white",
            "linecolor": "white",
            "ticks": ""
           },
           "baxis": {
            "gridcolor": "white",
            "linecolor": "white",
            "ticks": ""
           },
           "bgcolor": "#E5ECF6",
           "caxis": {
            "gridcolor": "white",
            "linecolor": "white",
            "ticks": ""
           }
          },
          "title": {
           "x": 0.05
          },
          "xaxis": {
           "automargin": true,
           "gridcolor": "white",
           "linecolor": "white",
           "ticks": "",
           "title": {
            "standoff": 15
           },
           "zerolinecolor": "white",
           "zerolinewidth": 2
          },
          "yaxis": {
           "automargin": true,
           "gridcolor": "white",
           "linecolor": "white",
           "ticks": "",
           "title": {
            "standoff": 15
           },
           "zerolinecolor": "white",
           "zerolinewidth": 2
          }
         }
        },
        "title": {
         "text": "Crypto WordCloud"
        },
        "xaxis": {
         "anchor": "y",
         "domain": [
          0,
          1
         ],
         "showticklabels": false
        },
        "yaxis": {
         "anchor": "x",
         "domain": [
          0,
          1
         ],
         "showticklabels": false
        }
       }
      },
      "text/html": [
       "<div>                            <div id=\"9f9870ce-b524-4648-8505-3790dc609545\" class=\"plotly-graph-div\" style=\"height:525px; width:100%;\"></div>            <script type=\"text/javascript\">                require([\"plotly\"], function(Plotly) {                    window.PLOTLYENV=window.PLOTLYENV || {};                                    if (document.getElementById(\"9f9870ce-b524-4648-8505-3790dc609545\")) {                    Plotly.newPlot(                        \"9f9870ce-b524-4648-8505-3790dc609545\",                        [{\"name\":\"0\",\"source\":\"data:image/png;base64,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\",\"type\":\"image\",\"xaxis\":\"x\",\"yaxis\":\"y\",\"hovertemplate\":\"x: %{x}<br>y: %{y}<br>color: [%{z[0]}, %{z[1]}, %{z[2]}]<extra></extra>\"}],                        {\"template\":{\"data\":{\"histogram2dcontour\":[{\"type\":\"histogram2dcontour\",\"colorbar\":{\"outlinewidth\":0,\"ticks\":\"\"},\"colorscale\":[[0.0,\"#0d0887\"],[0.1111111111111111,\"#46039f\"],[0.2222222222222222,\"#7201a8\"],[0.3333333333333333,\"#9c179e\"],[0.4444444444444444,\"#bd3786\"],[0.5555555555555556,\"#d8576b\"],[0.6666666666666666,\"#ed7953\"],[0.7777777777777778,\"#fb9f3a\"],[0.8888888888888888,\"#fdca26\"],[1.0,\"#f0f921\"]]}],\"choropleth\":[{\"type\":\"choropleth\",\"colorbar\":{\"outlinewidth\":0,\"ticks\":\"\"}}],\"histogram2d\":[{\"type\":\"histogram2d\",\"colorbar\":{\"outlinewidth\":0,\"ticks\":\"\"},\"colorscale\":[[0.0,\"#0d0887\"],[0.1111111111111111,\"#46039f\"],[0.2222222222222222,\"#7201a8\"],[0.3333333333333333,\"#9c179e\"],[0.4444444444444444,\"#bd3786\"],[0.5555555555555556,\"#d8576b\"],[0.6666666666666666,\"#ed7953\"],[0.7777777777777778,\"#fb9f3a\"],[0.8888888888888888,\"#fdca26\"],[1.0,\"#f0f921\"]]}],\"heatmap\":[{\"type\":\"heatmap\",\"colorbar\":{\"outlinewidth\":0,\"ticks\":\"\"},\"colorscale\":[[0.0,\"#0d0887\"],[0.1111111111111111,\"#46039f\"],[0.2222222222222222,\"#7201a8\"],[0.3333333333333333,\"#9c179e\"],[0.4444444444444444,\"#bd3786\"],[0.5555555555555556,\"#d8576b\"],[0.6666666666666666,\"#ed7953\"],[0.7777777777777778,\"#fb9f3a\"],[0.8888888888888888,\"#fdca26\"],[1.0,\"#f0f921\"]]}],\"heatmapgl\":[{\"type\":\"heatmapgl\",\"colorbar\":{\"outlinewidth\":0,\"ticks\":\"\"},\"colorscale\":[[0.0,\"#0d0887\"],[0.1111111111111111,\"#46039f\"],[0.2222222222222222,\"#7201a8\"],[0.3333333333333333,\"#9c179e\"],[0.4444444444444444,\"#bd3786\"],[0.5555555555555556,\"#d8576b\"],[0.6666666666666666,\"#ed7953\"],[0.7777777777777778,\"#fb9f3a\"],[0.8888888888888888,\"#fdca26\"],[1.0,\"#f0f921\"]]}],\"contourcarpet\":[{\"type\":\"contourcarpet\",\"colorbar\":{\"outlinewidth\":0,\"ticks\":\"\"}}],\"contour\":[{\"type\":\"contour\",\"colorbar\":{\"outlinewidth\":0,\"ticks\":\"\"},\"colorscale\":[[0.0,\"#0d0887\"],[0.1111111111111111,\"#46039f\"],[0.2222222222222222,\"#7201a8\"],[0.3333333333333333,\"#9c179e\"],[0.4444444444444444,\"#bd3786\"],[0.5555555555555556,\"#d8576b\"],[0.6666666666666666,\"#ed7953\"],[0.7777777777777778,\"#fb9f3a\"],[0.8888888888888888,\"#fdca26\"],[1.0,\"#f0f921\"]]}],\"surface\":[{\"type\":\"surface\",\"colorbar\":{\"outlinewidth\":0,\"ticks\":\"\"},\"colorscale\":[[0.0,\"#0d0887\"],[0.1111111111111111,\"#46039f\"],[0.2222222222222222,\"#7201a8\"],[0.3333333333333333,\"#9c179e\"],[0.4444444444444444,\"#bd3786\"],[0.5555555555555556,\"#d8576b\"],[0.6666666666666666,\"#ed7953\"],[0.7777777777777778,\"#fb9f3a\"],[0.8888888888888888,\"#fdca26\"],[1.0,\"#f0f921\"]]}],\"mesh3d\":[{\"type\":\"mesh3d\",\"colorbar\":{\"outlinewidth\":0,\"ticks\":\"\"}}],\"scatter\":[{\"fillpattern\":{\"fillmode\":\"overlay\",\"size\":10,\"solidity\":0.2},\"type\":\"scatter\"}],\"parcoords\":[{\"type\":\"parcoords\",\"line\":{\"colorbar\":{\"outlinewidth\":0,\"ticks\":\"\"}}}],\"scatterpolargl\":[{\"type\":\"scatterpolargl\",\"marker\":{\"colorbar\":{\"outlinewidth\":0,\"ticks\":\"\"}}}],\"bar\":[{\"error_x\":{\"color\":\"#2a3f5f\"},\"error_y\":{\"color\":\"#2a3f5f\"},\"marker\":{\"line\":{\"color\":\"#E5ECF6\",\"width\":0.5},\"pattern\":{\"fillmode\":\"overlay\",\"size\":10,\"solidity\":0.2}},\"type\":\"bar\"}],\"scattergeo\":[{\"type\":\"scattergeo\",\"marker\":{\"colorbar\":{\"outlinewidth\":0,\"ticks\":\"\"}}}],\"scatterpolar\":[{\"type\":\"scatterpolar\",\"marker\":{\"colorbar\":{\"outlinewidth\":0,\"ticks\":\"\"}}}],\"histogram\":[{\"marker\":{\"pattern\":{\"fillmode\":\"overlay\",\"size\":10,\"solidity\":0.2}},\"type\":\"histogram\"}],\"scattergl\":[{\"type\":\"scattergl\",\"marker\":{\"colorbar\":{\"outlinewidth\":0,\"ticks\":\"\"}}}],\"scatter3d\":[{\"type\":\"scatter3d\",\"line\":{\"colorbar\":{\"outlinewidth\":0,\"ticks\":\"\"}},\"marker\":{\"colorbar\":{\"outlinewidth\":0,\"ticks\":\"\"}}}],\"scattermapbox\":[{\"type\":\"scattermapbox\",\"marker\":{\"colorbar\":{\"outlinewidth\":0,\"ticks\":\"\"}}}],\"scatterternary\":[{\"type\":\"scatterternary\",\"marker\":{\"colorbar\":{\"outlinewidth\":0,\"ticks\":\"\"}}}],\"scattercarpet\":[{\"type\":\"scattercarpet\",\"marker\":{\"colorbar\":{\"outlinewidth\":0,\"ticks\":\"\"}}}],\"carpet\":[{\"aaxis\":{\"endlinecolor\":\"#2a3f5f\",\"gridcolor\":\"white\",\"linecolor\":\"white\",\"minorgridcolor\":\"white\",\"startlinecolor\":\"#2a3f5f\"},\"baxis\":{\"endlinecolor\":\"#2a3f5f\",\"gridcolor\":\"white\",\"linecolor\":\"white\",\"minorgridcolor\":\"white\",\"startlinecolor\":\"#2a3f5f\"},\"type\":\"carpet\"}],\"table\":[{\"cells\":{\"fill\":{\"color\":\"#EBF0F8\"},\"line\":{\"color\":\"white\"}},\"header\":{\"fill\":{\"color\":\"#C8D4E3\"},\"line\":{\"color\":\"white\"}},\"type\":\"table\"}],\"barpolar\":[{\"marker\":{\"line\":{\"color\":\"#E5ECF6\",\"width\":0.5},\"pattern\":{\"fillmode\":\"overlay\",\"size\":10,\"solidity\":0.2}},\"type\":\"barpolar\"}],\"pie\":[{\"automargin\":true,\"type\":\"pie\"}]},\"layout\":{\"autotypenumbers\":\"strict\",\"colorway\":[\"#636efa\",\"#EF553B\",\"#00cc96\",\"#ab63fa\",\"#FFA15A\",\"#19d3f3\",\"#FF6692\",\"#B6E880\",\"#FF97FF\",\"#FECB52\"],\"font\":{\"color\":\"#2a3f5f\"},\"hovermode\":\"closest\",\"hoverlabel\":{\"align\":\"left\"},\"paper_bgcolor\":\"white\",\"plot_bgcolor\":\"#E5ECF6\",\"polar\":{\"bgcolor\":\"#E5ECF6\",\"angularaxis\":{\"gridcolor\":\"white\",\"linecolor\":\"white\",\"ticks\":\"\"},\"radialaxis\":{\"gridcolor\":\"white\",\"linecolor\":\"white\",\"ticks\":\"\"}},\"ternary\":{\"bgcolor\":\"#E5ECF6\",\"aaxis\":{\"gridcolor\":\"white\",\"linecolor\":\"white\",\"ticks\":\"\"},\"baxis\":{\"gridcolor\":\"white\",\"linecolor\":\"white\",\"ticks\":\"\"},\"caxis\":{\"gridcolor\":\"white\",\"linecolor\":\"white\",\"ticks\":\"\"}},\"coloraxis\":{\"colorbar\":{\"outlinewidth\":0,\"ticks\":\"\"}},\"colorscale\":{\"sequential\":[[0.0,\"#0d0887\"],[0.1111111111111111,\"#46039f\"],[0.2222222222222222,\"#7201a8\"],[0.3333333333333333,\"#9c179e\"],[0.4444444444444444,\"#bd3786\"],[0.5555555555555556,\"#d8576b\"],[0.6666666666666666,\"#ed7953\"],[0.7777777777777778,\"#fb9f3a\"],[0.8888888888888888,\"#fdca26\"],[1.0,\"#f0f921\"]],\"sequentialminus\":[[0.0,\"#0d0887\"],[0.1111111111111111,\"#46039f\"],[0.2222222222222222,\"#7201a8\"],[0.3333333333333333,\"#9c179e\"],[0.4444444444444444,\"#bd3786\"],[0.5555555555555556,\"#d8576b\"],[0.6666666666666666,\"#ed7953\"],[0.7777777777777778,\"#fb9f3a\"],[0.8888888888888888,\"#fdca26\"],[1.0,\"#f0f921\"]],\"diverging\":[[0,\"#8e0152\"],[0.1,\"#c51b7d\"],[0.2,\"#de77ae\"],[0.3,\"#f1b6da\"],[0.4,\"#fde0ef\"],[0.5,\"#f7f7f7\"],[0.6,\"#e6f5d0\"],[0.7,\"#b8e186\"],[0.8,\"#7fbc41\"],[0.9,\"#4d9221\"],[1,\"#276419\"]]},\"xaxis\":{\"gridcolor\":\"white\",\"linecolor\":\"white\",\"ticks\":\"\",\"title\":{\"standoff\":15},\"zerolinecolor\":\"white\",\"automargin\":true,\"zerolinewidth\":2},\"yaxis\":{\"gridcolor\":\"white\",\"linecolor\":\"white\",\"ticks\":\"\",\"title\":{\"standoff\":15},\"zerolinecolor\":\"white\",\"automargin\":true,\"zerolinewidth\":2},\"scene\":{\"xaxis\":{\"backgroundcolor\":\"#E5ECF6\",\"gridcolor\":\"white\",\"linecolor\":\"white\",\"showbackground\":true,\"ticks\":\"\",\"zerolinecolor\":\"white\",\"gridwidth\":2},\"yaxis\":{\"backgroundcolor\":\"#E5ECF6\",\"gridcolor\":\"white\",\"linecolor\":\"white\",\"showbackground\":true,\"ticks\":\"\",\"zerolinecolor\":\"white\",\"gridwidth\":2},\"zaxis\":{\"backgroundcolor\":\"#E5ECF6\",\"gridcolor\":\"white\",\"linecolor\":\"white\",\"showbackground\":true,\"ticks\":\"\",\"zerolinecolor\":\"white\",\"gridwidth\":2}},\"shapedefaults\":{\"line\":{\"color\":\"#2a3f5f\"}},\"annotationdefaults\":{\"arrowcolor\":\"#2a3f5f\",\"arrowhead\":0,\"arrowwidth\":1},\"geo\":{\"bgcolor\":\"white\",\"landcolor\":\"#E5ECF6\",\"subunitcolor\":\"white\",\"showland\":true,\"showlakes\":true,\"lakecolor\":\"white\"},\"title\":{\"x\":0.05},\"mapbox\":{\"style\":\"light\"}}},\"xaxis\":{\"anchor\":\"y\",\"domain\":[0.0,1.0],\"showticklabels\":false},\"yaxis\":{\"anchor\":\"x\",\"domain\":[0.0,1.0],\"showticklabels\":false},\"title\":{\"text\":\"Crypto WordCloud\"}},                        {\"responsive\": true}                    ).then(function(){\n",
       "                            \n",
       "var gd = document.getElementById('9f9870ce-b524-4648-8505-3790dc609545');\n",
       "var x = new MutationObserver(function (mutations, observer) {{\n",
       "        var display = window.getComputedStyle(gd).display;\n",
       "        if (!display || display === 'none') {{\n",
       "            console.log([gd, 'removed!']);\n",
       "            Plotly.purge(gd);\n",
       "            observer.disconnect();\n",
       "        }}\n",
       "}});\n",
       "\n",
       "// Listen for the removal of the full notebook cells\n",
       "var notebookContainer = gd.closest('#notebook-container');\n",
       "if (notebookContainer) {{\n",
       "    x.observe(notebookContainer, {childList: true});\n",
       "}}\n",
       "\n",
       "// Listen for the clearing of the current output cell\n",
       "var outputEl = gd.closest('.output');\n",
       "if (outputEl) {{\n",
       "    x.observe(outputEl, {childList: true});\n",
       "}}\n",
       "\n",
       "                        })                };                });            </script>        </div>"
      ]
     },
     "metadata": {},
     "output_type": "display_data"
    }
   ],
   "source": [
    "#To begin, I have to combine all titles into a single string and store it in a container called data\n",
    "data = df2\n",
    "snippet_text = ' '.join(data['snippet'])\n",
    "\n",
    "# Create a WordCloud object\n",
    "wordcloud = WordCloud(width=800,height=300, background_color='#EEE2DE').generate(snippet_text)\n",
    "\n",
    "# Plot the Word Cloud\n",
    "fig = px.imshow(wordcloud, title='Crypto WordCloud')\n",
    "fig.update_layout\n",
    "fig.update_xaxes(showticklabels=False)\n",
    "fig.update_yaxes(showticklabels=False)\n",
    "\n",
    "fig.show()"
   ]
  },
  {
   "cell_type": "code",
   "execution_count": 52,
   "id": "ffbd8f54",
   "metadata": {},
   "outputs": [
    {
     "data": {
      "application/vnd.plotly.v1+json": {
       "config": {
        "plotlyServerURL": "https://plot.ly"
       },
       "data": [
        {
         "alignmentgroup": "True",
         "bingroup": "x",
         "hovertemplate": "Sentiment=%{x}<br>count=%{y}<extra></extra>",
         "legendgroup": "",
         "marker": {
          "color": "#636efa",
          "pattern": {
           "shape": ""
          }
         },
         "name": "",
         "offsetgroup": "",
         "orientation": "v",
         "showlegend": false,
         "type": "histogram",
         "x": [
          0.5,
          0,
          0,
          0.25,
          0.8,
          0,
          0.4,
          0.05,
          0,
          0,
          0,
          0,
          0.75,
          0.25,
          0.1238095238095238,
          0.2130681818181818,
          0.3125,
          0,
          -1,
          0,
          0,
          0,
          0.5,
          0,
          0.13333333333333336,
          0.2,
          0.25,
          0.175,
          -0.11875000000000002,
          0.15757575757575756,
          -0.06666666666666667,
          -0.16666666666666666,
          0,
          0,
          0,
          0,
          -0.3499999999999999,
          0,
          0,
          -0.16666666666666666,
          0.35,
          0,
          0.0625,
          0,
          0.22499999999999998,
          0,
          0.13636363636363635,
          -0.13333333333333333,
          -0.23666666666666666,
          0
         ],
         "xaxis": "x",
         "yaxis": "y"
        }
       ],
       "layout": {
        "barmode": "relative",
        "legend": {
         "tracegroupgap": 0
        },
        "template": {
         "data": {
          "bar": [
           {
            "error_x": {
             "color": "#2a3f5f"
            },
            "error_y": {
             "color": "#2a3f5f"
            },
            "marker": {
             "line": {
              "color": "#E5ECF6",
              "width": 0.5
             },
             "pattern": {
              "fillmode": "overlay",
              "size": 10,
              "solidity": 0.2
             }
            },
            "type": "bar"
           }
          ],
          "barpolar": [
           {
            "marker": {
             "line": {
              "color": "#E5ECF6",
              "width": 0.5
             },
             "pattern": {
              "fillmode": "overlay",
              "size": 10,
              "solidity": 0.2
             }
            },
            "type": "barpolar"
           }
          ],
          "carpet": [
           {
            "aaxis": {
             "endlinecolor": "#2a3f5f",
             "gridcolor": "white",
             "linecolor": "white",
             "minorgridcolor": "white",
             "startlinecolor": "#2a3f5f"
            },
            "baxis": {
             "endlinecolor": "#2a3f5f",
             "gridcolor": "white",
             "linecolor": "white",
             "minorgridcolor": "white",
             "startlinecolor": "#2a3f5f"
            },
            "type": "carpet"
           }
          ],
          "choropleth": [
           {
            "colorbar": {
             "outlinewidth": 0,
             "ticks": ""
            },
            "type": "choropleth"
           }
          ],
          "contour": [
           {
            "colorbar": {
             "outlinewidth": 0,
             "ticks": ""
            },
            "colorscale": [
             [
              0,
              "#0d0887"
             ],
             [
              0.1111111111111111,
              "#46039f"
             ],
             [
              0.2222222222222222,
              "#7201a8"
             ],
             [
              0.3333333333333333,
              "#9c179e"
             ],
             [
              0.4444444444444444,
              "#bd3786"
             ],
             [
              0.5555555555555556,
              "#d8576b"
             ],
             [
              0.6666666666666666,
              "#ed7953"
             ],
             [
              0.7777777777777778,
              "#fb9f3a"
             ],
             [
              0.8888888888888888,
              "#fdca26"
             ],
             [
              1,
              "#f0f921"
             ]
            ],
            "type": "contour"
           }
          ],
          "contourcarpet": [
           {
            "colorbar": {
             "outlinewidth": 0,
             "ticks": ""
            },
            "type": "contourcarpet"
           }
          ],
          "heatmap": [
           {
            "colorbar": {
             "outlinewidth": 0,
             "ticks": ""
            },
            "colorscale": [
             [
              0,
              "#0d0887"
             ],
             [
              0.1111111111111111,
              "#46039f"
             ],
             [
              0.2222222222222222,
              "#7201a8"
             ],
             [
              0.3333333333333333,
              "#9c179e"
             ],
             [
              0.4444444444444444,
              "#bd3786"
             ],
             [
              0.5555555555555556,
              "#d8576b"
             ],
             [
              0.6666666666666666,
              "#ed7953"
             ],
             [
              0.7777777777777778,
              "#fb9f3a"
             ],
             [
              0.8888888888888888,
              "#fdca26"
             ],
             [
              1,
              "#f0f921"
             ]
            ],
            "type": "heatmap"
           }
          ],
          "heatmapgl": [
           {
            "colorbar": {
             "outlinewidth": 0,
             "ticks": ""
            },
            "colorscale": [
             [
              0,
              "#0d0887"
             ],
             [
              0.1111111111111111,
              "#46039f"
             ],
             [
              0.2222222222222222,
              "#7201a8"
             ],
             [
              0.3333333333333333,
              "#9c179e"
             ],
             [
              0.4444444444444444,
              "#bd3786"
             ],
             [
              0.5555555555555556,
              "#d8576b"
             ],
             [
              0.6666666666666666,
              "#ed7953"
             ],
             [
              0.7777777777777778,
              "#fb9f3a"
             ],
             [
              0.8888888888888888,
              "#fdca26"
             ],
             [
              1,
              "#f0f921"
             ]
            ],
            "type": "heatmapgl"
           }
          ],
          "histogram": [
           {
            "marker": {
             "pattern": {
              "fillmode": "overlay",
              "size": 10,
              "solidity": 0.2
             }
            },
            "type": "histogram"
           }
          ],
          "histogram2d": [
           {
            "colorbar": {
             "outlinewidth": 0,
             "ticks": ""
            },
            "colorscale": [
             [
              0,
              "#0d0887"
             ],
             [
              0.1111111111111111,
              "#46039f"
             ],
             [
              0.2222222222222222,
              "#7201a8"
             ],
             [
              0.3333333333333333,
              "#9c179e"
             ],
             [
              0.4444444444444444,
              "#bd3786"
             ],
             [
              0.5555555555555556,
              "#d8576b"
             ],
             [
              0.6666666666666666,
              "#ed7953"
             ],
             [
              0.7777777777777778,
              "#fb9f3a"
             ],
             [
              0.8888888888888888,
              "#fdca26"
             ],
             [
              1,
              "#f0f921"
             ]
            ],
            "type": "histogram2d"
           }
          ],
          "histogram2dcontour": [
           {
            "colorbar": {
             "outlinewidth": 0,
             "ticks": ""
            },
            "colorscale": [
             [
              0,
              "#0d0887"
             ],
             [
              0.1111111111111111,
              "#46039f"
             ],
             [
              0.2222222222222222,
              "#7201a8"
             ],
             [
              0.3333333333333333,
              "#9c179e"
             ],
             [
              0.4444444444444444,
              "#bd3786"
             ],
             [
              0.5555555555555556,
              "#d8576b"
             ],
             [
              0.6666666666666666,
              "#ed7953"
             ],
             [
              0.7777777777777778,
              "#fb9f3a"
             ],
             [
              0.8888888888888888,
              "#fdca26"
             ],
             [
              1,
              "#f0f921"
             ]
            ],
            "type": "histogram2dcontour"
           }
          ],
          "mesh3d": [
           {
            "colorbar": {
             "outlinewidth": 0,
             "ticks": ""
            },
            "type": "mesh3d"
           }
          ],
          "parcoords": [
           {
            "line": {
             "colorbar": {
              "outlinewidth": 0,
              "ticks": ""
             }
            },
            "type": "parcoords"
           }
          ],
          "pie": [
           {
            "automargin": true,
            "type": "pie"
           }
          ],
          "scatter": [
           {
            "fillpattern": {
             "fillmode": "overlay",
             "size": 10,
             "solidity": 0.2
            },
            "type": "scatter"
           }
          ],
          "scatter3d": [
           {
            "line": {
             "colorbar": {
              "outlinewidth": 0,
              "ticks": ""
             }
            },
            "marker": {
             "colorbar": {
              "outlinewidth": 0,
              "ticks": ""
             }
            },
            "type": "scatter3d"
           }
          ],
          "scattercarpet": [
           {
            "marker": {
             "colorbar": {
              "outlinewidth": 0,
              "ticks": ""
             }
            },
            "type": "scattercarpet"
           }
          ],
          "scattergeo": [
           {
            "marker": {
             "colorbar": {
              "outlinewidth": 0,
              "ticks": ""
             }
            },
            "type": "scattergeo"
           }
          ],
          "scattergl": [
           {
            "marker": {
             "colorbar": {
              "outlinewidth": 0,
              "ticks": ""
             }
            },
            "type": "scattergl"
           }
          ],
          "scattermapbox": [
           {
            "marker": {
             "colorbar": {
              "outlinewidth": 0,
              "ticks": ""
             }
            },
            "type": "scattermapbox"
           }
          ],
          "scatterpolar": [
           {
            "marker": {
             "colorbar": {
              "outlinewidth": 0,
              "ticks": ""
             }
            },
            "type": "scatterpolar"
           }
          ],
          "scatterpolargl": [
           {
            "marker": {
             "colorbar": {
              "outlinewidth": 0,
              "ticks": ""
             }
            },
            "type": "scatterpolargl"
           }
          ],
          "scatterternary": [
           {
            "marker": {
             "colorbar": {
              "outlinewidth": 0,
              "ticks": ""
             }
            },
            "type": "scatterternary"
           }
          ],
          "surface": [
           {
            "colorbar": {
             "outlinewidth": 0,
             "ticks": ""
            },
            "colorscale": [
             [
              0,
              "#0d0887"
             ],
             [
              0.1111111111111111,
              "#46039f"
             ],
             [
              0.2222222222222222,
              "#7201a8"
             ],
             [
              0.3333333333333333,
              "#9c179e"
             ],
             [
              0.4444444444444444,
              "#bd3786"
             ],
             [
              0.5555555555555556,
              "#d8576b"
             ],
             [
              0.6666666666666666,
              "#ed7953"
             ],
             [
              0.7777777777777778,
              "#fb9f3a"
             ],
             [
              0.8888888888888888,
              "#fdca26"
             ],
             [
              1,
              "#f0f921"
             ]
            ],
            "type": "surface"
           }
          ],
          "table": [
           {
            "cells": {
             "fill": {
              "color": "#EBF0F8"
             },
             "line": {
              "color": "white"
             }
            },
            "header": {
             "fill": {
              "color": "#C8D4E3"
             },
             "line": {
              "color": "white"
             }
            },
            "type": "table"
           }
          ]
         },
         "layout": {
          "annotationdefaults": {
           "arrowcolor": "#2a3f5f",
           "arrowhead": 0,
           "arrowwidth": 1
          },
          "autotypenumbers": "strict",
          "coloraxis": {
           "colorbar": {
            "outlinewidth": 0,
            "ticks": ""
           }
          },
          "colorscale": {
           "diverging": [
            [
             0,
             "#8e0152"
            ],
            [
             0.1,
             "#c51b7d"
            ],
            [
             0.2,
             "#de77ae"
            ],
            [
             0.3,
             "#f1b6da"
            ],
            [
             0.4,
             "#fde0ef"
            ],
            [
             0.5,
             "#f7f7f7"
            ],
            [
             0.6,
             "#e6f5d0"
            ],
            [
             0.7,
             "#b8e186"
            ],
            [
             0.8,
             "#7fbc41"
            ],
            [
             0.9,
             "#4d9221"
            ],
            [
             1,
             "#276419"
            ]
           ],
           "sequential": [
            [
             0,
             "#0d0887"
            ],
            [
             0.1111111111111111,
             "#46039f"
            ],
            [
             0.2222222222222222,
             "#7201a8"
            ],
            [
             0.3333333333333333,
             "#9c179e"
            ],
            [
             0.4444444444444444,
             "#bd3786"
            ],
            [
             0.5555555555555556,
             "#d8576b"
            ],
            [
             0.6666666666666666,
             "#ed7953"
            ],
            [
             0.7777777777777778,
             "#fb9f3a"
            ],
            [
             0.8888888888888888,
             "#fdca26"
            ],
            [
             1,
             "#f0f921"
            ]
           ],
           "sequentialminus": [
            [
             0,
             "#0d0887"
            ],
            [
             0.1111111111111111,
             "#46039f"
            ],
            [
             0.2222222222222222,
             "#7201a8"
            ],
            [
             0.3333333333333333,
             "#9c179e"
            ],
            [
             0.4444444444444444,
             "#bd3786"
            ],
            [
             0.5555555555555556,
             "#d8576b"
            ],
            [
             0.6666666666666666,
             "#ed7953"
            ],
            [
             0.7777777777777778,
             "#fb9f3a"
            ],
            [
             0.8888888888888888,
             "#fdca26"
            ],
            [
             1,
             "#f0f921"
            ]
           ]
          },
          "colorway": [
           "#636efa",
           "#EF553B",
           "#00cc96",
           "#ab63fa",
           "#FFA15A",
           "#19d3f3",
           "#FF6692",
           "#B6E880",
           "#FF97FF",
           "#FECB52"
          ],
          "font": {
           "color": "#2a3f5f"
          },
          "geo": {
           "bgcolor": "white",
           "lakecolor": "white",
           "landcolor": "#E5ECF6",
           "showlakes": true,
           "showland": true,
           "subunitcolor": "white"
          },
          "hoverlabel": {
           "align": "left"
          },
          "hovermode": "closest",
          "mapbox": {
           "style": "light"
          },
          "paper_bgcolor": "white",
          "plot_bgcolor": "#E5ECF6",
          "polar": {
           "angularaxis": {
            "gridcolor": "white",
            "linecolor": "white",
            "ticks": ""
           },
           "bgcolor": "#E5ECF6",
           "radialaxis": {
            "gridcolor": "white",
            "linecolor": "white",
            "ticks": ""
           }
          },
          "scene": {
           "xaxis": {
            "backgroundcolor": "#E5ECF6",
            "gridcolor": "white",
            "gridwidth": 2,
            "linecolor": "white",
            "showbackground": true,
            "ticks": "",
            "zerolinecolor": "white"
           },
           "yaxis": {
            "backgroundcolor": "#E5ECF6",
            "gridcolor": "white",
            "gridwidth": 2,
            "linecolor": "white",
            "showbackground": true,
            "ticks": "",
            "zerolinecolor": "white"
           },
           "zaxis": {
            "backgroundcolor": "#E5ECF6",
            "gridcolor": "white",
            "gridwidth": 2,
            "linecolor": "white",
            "showbackground": true,
            "ticks": "",
            "zerolinecolor": "white"
           }
          },
          "shapedefaults": {
           "line": {
            "color": "#2a3f5f"
           }
          },
          "ternary": {
           "aaxis": {
            "gridcolor": "white",
            "linecolor": "white",
            "ticks": ""
           },
           "baxis": {
            "gridcolor": "white",
            "linecolor": "white",
            "ticks": ""
           },
           "bgcolor": "#E5ECF6",
           "caxis": {
            "gridcolor": "white",
            "linecolor": "white",
            "ticks": ""
           }
          },
          "title": {
           "x": 0.05
          },
          "xaxis": {
           "automargin": true,
           "gridcolor": "white",
           "linecolor": "white",
           "ticks": "",
           "title": {
            "standoff": 15
           },
           "zerolinecolor": "white",
           "zerolinewidth": 2
          },
          "yaxis": {
           "automargin": true,
           "gridcolor": "white",
           "linecolor": "white",
           "ticks": "",
           "title": {
            "standoff": 15
           },
           "zerolinecolor": "white",
           "zerolinewidth": 2
          }
         }
        },
        "title": {
         "text": "Sentiment Distribution Graph"
        },
        "xaxis": {
         "anchor": "y",
         "domain": [
          0,
          1
         ],
         "title": {
          "text": "Sentiment"
         }
        },
        "yaxis": {
         "anchor": "x",
         "domain": [
          0,
          1
         ],
         "title": {
          "text": "count"
         }
        }
       }
      },
      "text/html": [
       "<div>                            <div id=\"b74f2a9c-cb1e-4b7e-b2a4-d2da571f6e59\" class=\"plotly-graph-div\" style=\"height:525px; width:100%;\"></div>            <script type=\"text/javascript\">                require([\"plotly\"], function(Plotly) {                    window.PLOTLYENV=window.PLOTLYENV || {};                                    if (document.getElementById(\"b74f2a9c-cb1e-4b7e-b2a4-d2da571f6e59\")) {                    Plotly.newPlot(                        \"b74f2a9c-cb1e-4b7e-b2a4-d2da571f6e59\",                        [{\"alignmentgroup\":\"True\",\"bingroup\":\"x\",\"hovertemplate\":\"Sentiment=%{x}<br>count=%{y}<extra></extra>\",\"legendgroup\":\"\",\"marker\":{\"color\":\"#636efa\",\"pattern\":{\"shape\":\"\"}},\"name\":\"\",\"offsetgroup\":\"\",\"orientation\":\"v\",\"showlegend\":false,\"x\":[0.5,0.0,0.0,0.25,0.8,0.0,0.4,0.05,0.0,0.0,0.0,0.0,0.75,0.25,0.1238095238095238,0.2130681818181818,0.3125,0.0,-1.0,0.0,0.0,0.0,0.5,0.0,0.13333333333333336,0.2,0.25,0.175,-0.11875000000000002,0.15757575757575756,-0.06666666666666667,-0.16666666666666666,0.0,0.0,0.0,0.0,-0.3499999999999999,0.0,0.0,-0.16666666666666666,0.35,0.0,0.0625,0.0,0.22499999999999998,0.0,0.13636363636363635,-0.13333333333333333,-0.23666666666666666,0.0],\"xaxis\":\"x\",\"yaxis\":\"y\",\"type\":\"histogram\"}],                        {\"template\":{\"data\":{\"histogram2dcontour\":[{\"type\":\"histogram2dcontour\",\"colorbar\":{\"outlinewidth\":0,\"ticks\":\"\"},\"colorscale\":[[0.0,\"#0d0887\"],[0.1111111111111111,\"#46039f\"],[0.2222222222222222,\"#7201a8\"],[0.3333333333333333,\"#9c179e\"],[0.4444444444444444,\"#bd3786\"],[0.5555555555555556,\"#d8576b\"],[0.6666666666666666,\"#ed7953\"],[0.7777777777777778,\"#fb9f3a\"],[0.8888888888888888,\"#fdca26\"],[1.0,\"#f0f921\"]]}],\"choropleth\":[{\"type\":\"choropleth\",\"colorbar\":{\"outlinewidth\":0,\"ticks\":\"\"}}],\"histogram2d\":[{\"type\":\"histogram2d\",\"colorbar\":{\"outlinewidth\":0,\"ticks\":\"\"},\"colorscale\":[[0.0,\"#0d0887\"],[0.1111111111111111,\"#46039f\"],[0.2222222222222222,\"#7201a8\"],[0.3333333333333333,\"#9c179e\"],[0.4444444444444444,\"#bd3786\"],[0.5555555555555556,\"#d8576b\"],[0.6666666666666666,\"#ed7953\"],[0.7777777777777778,\"#fb9f3a\"],[0.8888888888888888,\"#fdca26\"],[1.0,\"#f0f921\"]]}],\"heatmap\":[{\"type\":\"heatmap\",\"colorbar\":{\"outlinewidth\":0,\"ticks\":\"\"},\"colorscale\":[[0.0,\"#0d0887\"],[0.1111111111111111,\"#46039f\"],[0.2222222222222222,\"#7201a8\"],[0.3333333333333333,\"#9c179e\"],[0.4444444444444444,\"#bd3786\"],[0.5555555555555556,\"#d8576b\"],[0.6666666666666666,\"#ed7953\"],[0.7777777777777778,\"#fb9f3a\"],[0.8888888888888888,\"#fdca26\"],[1.0,\"#f0f921\"]]}],\"heatmapgl\":[{\"type\":\"heatmapgl\",\"colorbar\":{\"outlinewidth\":0,\"ticks\":\"\"},\"colorscale\":[[0.0,\"#0d0887\"],[0.1111111111111111,\"#46039f\"],[0.2222222222222222,\"#7201a8\"],[0.3333333333333333,\"#9c179e\"],[0.4444444444444444,\"#bd3786\"],[0.5555555555555556,\"#d8576b\"],[0.6666666666666666,\"#ed7953\"],[0.7777777777777778,\"#fb9f3a\"],[0.8888888888888888,\"#fdca26\"],[1.0,\"#f0f921\"]]}],\"contourcarpet\":[{\"type\":\"contourcarpet\",\"colorbar\":{\"outlinewidth\":0,\"ticks\":\"\"}}],\"contour\":[{\"type\":\"contour\",\"colorbar\":{\"outlinewidth\":0,\"ticks\":\"\"},\"colorscale\":[[0.0,\"#0d0887\"],[0.1111111111111111,\"#46039f\"],[0.2222222222222222,\"#7201a8\"],[0.3333333333333333,\"#9c179e\"],[0.4444444444444444,\"#bd3786\"],[0.5555555555555556,\"#d8576b\"],[0.6666666666666666,\"#ed7953\"],[0.7777777777777778,\"#fb9f3a\"],[0.8888888888888888,\"#fdca26\"],[1.0,\"#f0f921\"]]}],\"surface\":[{\"type\":\"surface\",\"colorbar\":{\"outlinewidth\":0,\"ticks\":\"\"},\"colorscale\":[[0.0,\"#0d0887\"],[0.1111111111111111,\"#46039f\"],[0.2222222222222222,\"#7201a8\"],[0.3333333333333333,\"#9c179e\"],[0.4444444444444444,\"#bd3786\"],[0.5555555555555556,\"#d8576b\"],[0.6666666666666666,\"#ed7953\"],[0.7777777777777778,\"#fb9f3a\"],[0.8888888888888888,\"#fdca26\"],[1.0,\"#f0f921\"]]}],\"mesh3d\":[{\"type\":\"mesh3d\",\"colorbar\":{\"outlinewidth\":0,\"ticks\":\"\"}}],\"scatter\":[{\"fillpattern\":{\"fillmode\":\"overlay\",\"size\":10,\"solidity\":0.2},\"type\":\"scatter\"}],\"parcoords\":[{\"type\":\"parcoords\",\"line\":{\"colorbar\":{\"outlinewidth\":0,\"ticks\":\"\"}}}],\"scatterpolargl\":[{\"type\":\"scatterpolargl\",\"marker\":{\"colorbar\":{\"outlinewidth\":0,\"ticks\":\"\"}}}],\"bar\":[{\"error_x\":{\"color\":\"#2a3f5f\"},\"error_y\":{\"color\":\"#2a3f5f\"},\"marker\":{\"line\":{\"color\":\"#E5ECF6\",\"width\":0.5},\"pattern\":{\"fillmode\":\"overlay\",\"size\":10,\"solidity\":0.2}},\"type\":\"bar\"}],\"scattergeo\":[{\"type\":\"scattergeo\",\"marker\":{\"colorbar\":{\"outlinewidth\":0,\"ticks\":\"\"}}}],\"scatterpolar\":[{\"type\":\"scatterpolar\",\"marker\":{\"colorbar\":{\"outlinewidth\":0,\"ticks\":\"\"}}}],\"histogram\":[{\"marker\":{\"pattern\":{\"fillmode\":\"overlay\",\"size\":10,\"solidity\":0.2}},\"type\":\"histogram\"}],\"scattergl\":[{\"type\":\"scattergl\",\"marker\":{\"colorbar\":{\"outlinewidth\":0,\"ticks\":\"\"}}}],\"scatter3d\":[{\"type\":\"scatter3d\",\"line\":{\"colorbar\":{\"outlinewidth\":0,\"ticks\":\"\"}},\"marker\":{\"colorbar\":{\"outlinewidth\":0,\"ticks\":\"\"}}}],\"scattermapbox\":[{\"type\":\"scattermapbox\",\"marker\":{\"colorbar\":{\"outlinewidth\":0,\"ticks\":\"\"}}}],\"scatterternary\":[{\"type\":\"scatterternary\",\"marker\":{\"colorbar\":{\"outlinewidth\":0,\"ticks\":\"\"}}}],\"scattercarpet\":[{\"type\":\"scattercarpet\",\"marker\":{\"colorbar\":{\"outlinewidth\":0,\"ticks\":\"\"}}}],\"carpet\":[{\"aaxis\":{\"endlinecolor\":\"#2a3f5f\",\"gridcolor\":\"white\",\"linecolor\":\"white\",\"minorgridcolor\":\"white\",\"startlinecolor\":\"#2a3f5f\"},\"baxis\":{\"endlinecolor\":\"#2a3f5f\",\"gridcolor\":\"white\",\"linecolor\":\"white\",\"minorgridcolor\":\"white\",\"startlinecolor\":\"#2a3f5f\"},\"type\":\"carpet\"}],\"table\":[{\"cells\":{\"fill\":{\"color\":\"#EBF0F8\"},\"line\":{\"color\":\"white\"}},\"header\":{\"fill\":{\"color\":\"#C8D4E3\"},\"line\":{\"color\":\"white\"}},\"type\":\"table\"}],\"barpolar\":[{\"marker\":{\"line\":{\"color\":\"#E5ECF6\",\"width\":0.5},\"pattern\":{\"fillmode\":\"overlay\",\"size\":10,\"solidity\":0.2}},\"type\":\"barpolar\"}],\"pie\":[{\"automargin\":true,\"type\":\"pie\"}]},\"layout\":{\"autotypenumbers\":\"strict\",\"colorway\":[\"#636efa\",\"#EF553B\",\"#00cc96\",\"#ab63fa\",\"#FFA15A\",\"#19d3f3\",\"#FF6692\",\"#B6E880\",\"#FF97FF\",\"#FECB52\"],\"font\":{\"color\":\"#2a3f5f\"},\"hovermode\":\"closest\",\"hoverlabel\":{\"align\":\"left\"},\"paper_bgcolor\":\"white\",\"plot_bgcolor\":\"#E5ECF6\",\"polar\":{\"bgcolor\":\"#E5ECF6\",\"angularaxis\":{\"gridcolor\":\"white\",\"linecolor\":\"white\",\"ticks\":\"\"},\"radialaxis\":{\"gridcolor\":\"white\",\"linecolor\":\"white\",\"ticks\":\"\"}},\"ternary\":{\"bgcolor\":\"#E5ECF6\",\"aaxis\":{\"gridcolor\":\"white\",\"linecolor\":\"white\",\"ticks\":\"\"},\"baxis\":{\"gridcolor\":\"white\",\"linecolor\":\"white\",\"ticks\":\"\"},\"caxis\":{\"gridcolor\":\"white\",\"linecolor\":\"white\",\"ticks\":\"\"}},\"coloraxis\":{\"colorbar\":{\"outlinewidth\":0,\"ticks\":\"\"}},\"colorscale\":{\"sequential\":[[0.0,\"#0d0887\"],[0.1111111111111111,\"#46039f\"],[0.2222222222222222,\"#7201a8\"],[0.3333333333333333,\"#9c179e\"],[0.4444444444444444,\"#bd3786\"],[0.5555555555555556,\"#d8576b\"],[0.6666666666666666,\"#ed7953\"],[0.7777777777777778,\"#fb9f3a\"],[0.8888888888888888,\"#fdca26\"],[1.0,\"#f0f921\"]],\"sequentialminus\":[[0.0,\"#0d0887\"],[0.1111111111111111,\"#46039f\"],[0.2222222222222222,\"#7201a8\"],[0.3333333333333333,\"#9c179e\"],[0.4444444444444444,\"#bd3786\"],[0.5555555555555556,\"#d8576b\"],[0.6666666666666666,\"#ed7953\"],[0.7777777777777778,\"#fb9f3a\"],[0.8888888888888888,\"#fdca26\"],[1.0,\"#f0f921\"]],\"diverging\":[[0,\"#8e0152\"],[0.1,\"#c51b7d\"],[0.2,\"#de77ae\"],[0.3,\"#f1b6da\"],[0.4,\"#fde0ef\"],[0.5,\"#f7f7f7\"],[0.6,\"#e6f5d0\"],[0.7,\"#b8e186\"],[0.8,\"#7fbc41\"],[0.9,\"#4d9221\"],[1,\"#276419\"]]},\"xaxis\":{\"gridcolor\":\"white\",\"linecolor\":\"white\",\"ticks\":\"\",\"title\":{\"standoff\":15},\"zerolinecolor\":\"white\",\"automargin\":true,\"zerolinewidth\":2},\"yaxis\":{\"gridcolor\":\"white\",\"linecolor\":\"white\",\"ticks\":\"\",\"title\":{\"standoff\":15},\"zerolinecolor\":\"white\",\"automargin\":true,\"zerolinewidth\":2},\"scene\":{\"xaxis\":{\"backgroundcolor\":\"#E5ECF6\",\"gridcolor\":\"white\",\"linecolor\":\"white\",\"showbackground\":true,\"ticks\":\"\",\"zerolinecolor\":\"white\",\"gridwidth\":2},\"yaxis\":{\"backgroundcolor\":\"#E5ECF6\",\"gridcolor\":\"white\",\"linecolor\":\"white\",\"showbackground\":true,\"ticks\":\"\",\"zerolinecolor\":\"white\",\"gridwidth\":2},\"zaxis\":{\"backgroundcolor\":\"#E5ECF6\",\"gridcolor\":\"white\",\"linecolor\":\"white\",\"showbackground\":true,\"ticks\":\"\",\"zerolinecolor\":\"white\",\"gridwidth\":2}},\"shapedefaults\":{\"line\":{\"color\":\"#2a3f5f\"}},\"annotationdefaults\":{\"arrowcolor\":\"#2a3f5f\",\"arrowhead\":0,\"arrowwidth\":1},\"geo\":{\"bgcolor\":\"white\",\"landcolor\":\"#E5ECF6\",\"subunitcolor\":\"white\",\"showland\":true,\"showlakes\":true,\"lakecolor\":\"white\"},\"title\":{\"x\":0.05},\"mapbox\":{\"style\":\"light\"}}},\"xaxis\":{\"anchor\":\"y\",\"domain\":[0.0,1.0],\"title\":{\"text\":\"Sentiment\"}},\"yaxis\":{\"anchor\":\"x\",\"domain\":[0.0,1.0],\"title\":{\"text\":\"count\"}},\"legend\":{\"tracegroupgap\":0},\"title\":{\"text\":\"Sentiment Distribution Graph\"},\"barmode\":\"relative\"},                        {\"responsive\": true}                    ).then(function(){\n",
       "                            \n",
       "var gd = document.getElementById('b74f2a9c-cb1e-4b7e-b2a4-d2da571f6e59');\n",
       "var x = new MutationObserver(function (mutations, observer) {{\n",
       "        var display = window.getComputedStyle(gd).display;\n",
       "        if (!display || display === 'none') {{\n",
       "            console.log([gd, 'removed!']);\n",
       "            Plotly.purge(gd);\n",
       "            observer.disconnect();\n",
       "        }}\n",
       "}});\n",
       "\n",
       "// Listen for the removal of the full notebook cells\n",
       "var notebookContainer = gd.closest('#notebook-container');\n",
       "if (notebookContainer) {{\n",
       "    x.observe(notebookContainer, {childList: true});\n",
       "}}\n",
       "\n",
       "// Listen for the clearing of the current output cell\n",
       "var outputEl = gd.closest('.output');\n",
       "if (outputEl) {{\n",
       "    x.observe(outputEl, {childList: true});\n",
       "}}\n",
       "\n",
       "                        })                };                });            </script>        </div>"
      ]
     },
     "metadata": {},
     "output_type": "display_data"
    }
   ],
   "source": [
    "#Sentiment analysis\n",
    "data['Sentiment'] = data['snippet'].apply(lambda x: TextBlob(x).sentiment.polarity)\n",
    "\n",
    "#Sentiment distribution \n",
    "fig = px.histogram(data, x='Sentiment', title ='Sentiment Distribution Graph')\n",
    "fig.update_layout\n",
    "#fig.update_xaxes(showticklabels=False)\n",
    "#fig.update_yaxes(showticklabels=False)\n",
    "fig.show()"
   ]
  },
  {
   "cell_type": "code",
   "execution_count": null,
   "id": "6cdc2e14",
   "metadata": {},
   "outputs": [],
   "source": []
  }
 ],
 "metadata": {
  "kernelspec": {
   "display_name": "Python 3 (ipykernel)",
   "language": "python",
   "name": "python3"
  },
  "language_info": {
   "codemirror_mode": {
    "name": "ipython",
    "version": 3
   },
   "file_extension": ".py",
   "mimetype": "text/x-python",
   "name": "python",
   "nbconvert_exporter": "python",
   "pygments_lexer": "ipython3",
   "version": "3.11.5"
  }
 },
 "nbformat": 4,
 "nbformat_minor": 5
}
